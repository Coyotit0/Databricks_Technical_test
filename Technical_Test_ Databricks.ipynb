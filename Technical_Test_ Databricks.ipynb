{
  "nbformat": 4,
  "nbformat_minor": 0,
  "metadata": {
    "colab": {
      "provenance": []
    },
    "kernelspec": {
      "name": "python3",
      "display_name": "Python 3"
    },
    "language_info": {
      "name": "python"
    }
  },
  "cells": [
    {
      "cell_type": "code",
      "execution_count": null,
      "metadata": {
        "id": "X_H4pfoMBIXb",
        "collapsed": true
      },
      "outputs": [],
      "source": [
        "\"\"\"\n",
        "1. Write a query that will display the results below (Note: some columns might be renamed\n",
        "but use the column names above). It should only show 2020 data and order by driver\n",
        "points\n",
        "\"\"\"\n",
        "import sqlite3\n",
        "\n",
        "# Connect to the database\n",
        "conn = sqlite3.connect('database.db')\n",
        "cursor = conn.cursor()\n",
        "\n",
        "# SQL query to retrieve 2020 data and order by driver points\n",
        "query = \"\"\"\n",
        "SELECT circuit_location, grid, position, fastest_lap, points, drivers_name,\n",
        "       race_name, race_time, race_year, team, race_date\n",
        "FROM JoinRaceResults\n",
        "WHERE race_year = 2020\n",
        "ORDER BY points ASC;\n",
        "\"\"\"\n",
        "\n",
        "# Execute the query and fetch results\n",
        "cursor.execute(query)\n",
        "results = cursor.fetchall()\n",
        "\n",
        "# Display results\n",
        "for row in results:\n",
        "    print(row)\n",
        "\n",
        "# Close the connection\n",
        "conn.close()\n"
      ]
    },
    {
      "cell_type": "code",
      "source": [
        "\"\"\"\"\n",
        "2. Write a Python function that checks whether a word or phrase is palindrome or not.\n",
        "Note: A palindrome is word, phrase, or sequence that reads the same backward as forward, e.g., madam,kayak,racecar, or a phrase \"nurses run\"\n",
        "\"\"\"\n",
        "\n",
        "def palindrome(s):\n",
        "\n",
        "    # Remove spaces and convert to lowercase to remove case sensitivy.\n",
        "    word = s.replace(\" \", \"\").lower()\n",
        "\n",
        "    # Check if the string is equal to its reverse\n",
        "    return word == word[::-1]\n",
        "\n",
        "# Example usage\n",
        "print(palindrome(\"madam\"))\n",
        "print(palindrome(\"kayak\"))\n",
        "print(palindrome(\"jack\"))\n",
        "print(palindrome(\"racecar\"))\n",
        "print(palindrome(\"nurses run\"))\n",
        "print(palindrome(\"ewe\"))\n",
        "print(palindrome(\"hello\"))"
      ],
      "metadata": {
        "colab": {
          "base_uri": "https://localhost:8080/"
        },
        "id": "-N7pu5Pm4w8B",
        "outputId": "28772a3f-ac45-46ec-e7f9-c052b650c4ee"
      },
      "execution_count": null,
      "outputs": [
        {
          "output_type": "stream",
          "name": "stdout",
          "text": [
            "True\n",
            "True\n",
            "False\n",
            "True\n",
            "True\n",
            "True\n",
            "False\n"
          ]
        }
      ]
    },
    {
      "cell_type": "code",
      "source": [
        "\"\"\"\n",
        "3.  Write a Python function to check whether a string is pangram or not. (Assume the string passed in does not have any punctuation)\n",
        "Note: Pangrams are words or sentences containing every letter of the  alphabet at least once. For example: \"The quick brown fox jumps over the\n",
        "lazy dog\"\n",
        "\n",
        "\"\"\"\n",
        "def pangram(sentence):\n",
        "    # Define the alphabet\n",
        "    alphabet = set('abcdefghijklmnopqrstuvwxyz')\n",
        "\n",
        "    # Convert the input string to lowercase and create a set of characters\n",
        "    sentence = sentence.lower()\n",
        "    characters = set(sentence)\n",
        "\n",
        "    # Check if all alphabet letters are in the set of characters\n",
        "    return alphabet.issubset(characters)\n",
        "\n",
        "#Function Calling\n",
        "input_sentence = input(\"Enter a string: \")\n",
        "\n",
        "\n",
        "if pangram(input_sentence):\n",
        "    print(f'\"{input_sentence}\" is a pangram.')\n",
        "else:\n",
        "    print(f'\"{input_sentence}\" is not a pangram.')\n",
        "\n",
        "print(pangram(\"The quick brown fox jumps over the lazy dog\"))\n",
        "print(pangram(\"Hello, world!\"))\n"
      ],
      "metadata": {
        "colab": {
          "base_uri": "https://localhost:8080/"
        },
        "id": "NopBOJkKVnay",
        "outputId": "a4059e55-63c7-4ca8-c543-565423e9eb7c"
      },
      "execution_count": null,
      "outputs": [
        {
          "output_type": "stream",
          "name": "stdout",
          "text": [
            "Enter a string: My name is Njuguna Jackson I am a data analyst at Databricks \n",
            "\"My name is Njuguna Jackson I am a data analyst at Databricks \" is not a pangram.\n",
            "True\n",
            "False\n"
          ]
        }
      ]
    },
    {
      "cell_type": "code",
      "source": [
        "\"\"\"\n",
        "4. Write a program that takes an integer as input and returns an integer with reversed digit ordering.\n",
        "Examples:\n",
        "For input 500, the program should return 5.\n",
        "For input -56, the program should return -65.\n",
        "For input -90, the program should return -9.\n",
        "For input 91, the program should return 19.\n",
        "\"\"\"\n",
        "def reverse_digits():\n",
        "    # Get input from the user\n",
        "    user_input = input(\"Enter an integer: \")\n",
        "\n",
        "    # Check if input is a valid integer\n",
        "    try:\n",
        "        num = int(user_input)\n",
        "    except ValueError:\n",
        "        print(\"Invalid input! Please enter an integer.\")\n",
        "        return\n",
        "\n",
        "    # Convert integer to string and reverse it, handling the negative sign\n",
        "    if num >= 0:\n",
        "        reversed_str = str(num)[::-1]\n",
        "    else:\n",
        "        reversed_str = '-' + str(num)[:0:-1]\n",
        "\n",
        "    # Convert the reversed string back to an integer to remove any leading zeros\n",
        "    reversed_num = int(reversed_str)\n",
        "\n",
        "    print(\"Reversed integer:\", reversed_num)\n",
        "\n",
        "# Run the function\n",
        "reverse_digits()\n",
        "\n"
      ],
      "metadata": {
        "id": "fjfzHj-JXZNi",
        "colab": {
          "base_uri": "https://localhost:8080/"
        },
        "outputId": "a036d9ae-217f-44d6-cba8-6a74a9c983cf"
      },
      "execution_count": null,
      "outputs": [
        {
          "output_type": "stream",
          "name": "stdout",
          "text": [
            "Enter an integer: -90\n",
            "Reversed integer: -9\n"
          ]
        }
      ]
    },
    {
      "cell_type": "code",
      "source": [
        "\"\"\"5. Write a program that accepts a string as input, capitalizes the first letter of each word in the string, and then returns the result string.\n",
        "Examples:\n",
        "\"hi\"=> returns \"Hi\"\n",
        "\"i love programming\"=> returns \"I Love Programming\"\n",
        "\"\"\"\n",
        "def capitalize_words():\n",
        "    # Get input from the user\n",
        "    user_input = input(\"Enter a string: \")\n",
        "\n",
        "    # Check if input is a string and contains alphabetic characters\n",
        "    if not any(char.isalpha() for char in user_input): # Indented this line to align with other statements in the function\n",
        "        print(\"Invalid input! Please enter a string containing at least one letter.\")\n",
        "        return\n",
        "    # Capitalize the first letter of each word\n",
        "    capitalized_string = user_input.title()\n",
        "\n",
        "    print(\"Result:\", capitalized_string)\n",
        "\n",
        "# Run the function\n",
        "capitalize_words()"
      ],
      "metadata": {
        "colab": {
          "base_uri": "https://localhost:8080/"
        },
        "id": "8dmp9cvY3Mv-",
        "outputId": "3fe9833b-7edb-457b-ab41-9cc1327dc0b7"
      },
      "execution_count": null,
      "outputs": [
        {
          "output_type": "stream",
          "name": "stdout",
          "text": [
            "Enter a string: i love programming\n",
            "Result: I Love Programming\n"
          ]
        }
      ]
    }
  ]
}